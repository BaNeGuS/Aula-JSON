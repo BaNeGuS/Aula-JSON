{
 "cells": [
  {
   "cell_type": "code",
   "execution_count": 83,
   "metadata": {},
   "outputs": [],
   "source": [
    "import json\n",
    "\n",
    "class Alumno:\n",
    "    alumnos = []\n",
    "\n",
    "    def __init__(self, nombre):\n",
    "        self.nombre = nombre\n",
    "        if not self.nombre in [alumno.nombre for alumno in Alumno.alumnos]: # Evita agregar a la lista instancias duplicadas.\n",
    "            Alumno.alumnos.append(self)\n",
    "\n",
    "class Docente:\n",
    "    docentes = []\n",
    "\n",
    "    def __init__(self, nombre):\n",
    "        self.nombre = nombre\n",
    "        if not self.nombre in [docente.nombre for docente in Docente.docentes]: # Evita agregar a la lista instancias duplicadas.\n",
    "            Docente.docentes.append(self)\n",
    "\n",
    "# Guarda todas las instancias en un archivo 'instancias.json'\n",
    "def a_json():\n",
    "    instancias_json = []            # Lista para guardar instancias en formato diccionario.\n",
    "    for instancia in Alumno.alumnos+Docente.docentes:\n",
    "        instancia_dict = {'tipo': type(instancia).__name__, 'nombre': instancia.nombre}\n",
    "        instancias_json.append(instancia_dict)\n",
    "    with open('data/instancias.json', 'w') as archivo_json:\n",
    "        json.dump(instancias_json, archivo_json)\n",
    "    print('Instancias guardadas correctamente.')\n",
    "\n",
    "# Carga todas las instancias del archivo 'instancias.json' si este existe.\n",
    "def de_json():\n",
    "    try:\n",
    "        with open('data/instancias.json', 'r') as archivo_json:\n",
    "            datos_json = json.load(archivo_json)\n",
    "            for instancia_data in datos_json:\n",
    "                if instancia_data['tipo'] == 'Alumno':\n",
    "                    Alumno(instancia_data['nombre'])\n",
    "                elif instancia_data['tipo'] == 'Docente':\n",
    "                    Docente(instancia_data['nombre'])\n",
    "            print('Instancias cargadas correctamente.')\n",
    "    except FileNotFoundError:               # En caso de que no se encuentre el archivo, se omite la carga.\n",
    "        pass\n",
    "\n",
    "# Muestra todas las instancias.\n",
    "def datos():\n",
    "    for instancia in Alumno.alumnos+Docente.docentes:\n",
    "        print(f'Tipo: {type(instancia).__name__:<10}    Nombre: {instancia.nombre}')"
   ]
  },
  {
   "cell_type": "code",
   "execution_count": 79,
   "metadata": {},
   "outputs": [],
   "source": [
    "alumno1=Alumno('Jaime')\n",
    "alumno2=Alumno('Lucia')\n",
    "alumno3=Alumno('Alfredo')\n",
    "docente1=Docente('María')\n",
    "docente2=Docente('Andres')\n",
    "docente3=Docente('Elena')"
   ]
  },
  {
   "cell_type": "code",
   "execution_count": 86,
   "metadata": {},
   "outputs": [
    {
     "name": "stdout",
     "output_type": "stream",
     "text": [
      "Instancias cargadas correctamente.\n",
      "Tipo: Alumno        Nombre: Jaime\n",
      "Tipo: Alumno        Nombre: Lucia\n",
      "Tipo: Alumno        Nombre: Alfredo\n",
      "Tipo: Docente       Nombre: María\n",
      "Tipo: Docente       Nombre: Andres\n",
      "Tipo: Docente       Nombre: Elena\n"
     ]
    }
   ],
   "source": [
    "de_json()\n",
    "datos()"
   ]
  }
 ],
 "metadata": {
  "kernelspec": {
   "display_name": "Python 3",
   "language": "python",
   "name": "python3"
  },
  "language_info": {
   "codemirror_mode": {
    "name": "ipython",
    "version": 3
   },
   "file_extension": ".py",
   "mimetype": "text/x-python",
   "name": "python",
   "nbconvert_exporter": "python",
   "pygments_lexer": "ipython3",
   "version": "3.11.4"
  },
  "orig_nbformat": 4
 },
 "nbformat": 4,
 "nbformat_minor": 2
}
